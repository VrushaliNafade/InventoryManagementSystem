{
  "nbformat": 4,
  "nbformat_minor": 0,
  "metadata": {
    "colab": {
      "name": "InventoryManagement.ipynb",
      "provenance": [],
      "collapsed_sections": []
    },
    "kernelspec": {
      "display_name": "Python 3",
      "name": "python3"
    },
    "language_info": {
      "name": "python"
    }
  },
  "cells": [
    {
      "cell_type": "code",
      "metadata": {
        "id": "CnYFpAqhEZBq"
      },
      "source": [
        "  records= {'1001': {'name': 'Chocolate', 'price': 100, 'qn': 89, \"manu_date\":\"12/20\", \"weight\": \"50gm\"},\n",
        "            '1002': {'name': 'MilkCake', 'price': 150, 'qn': 180, \"manu_date\":\"08/19\", \"weight\": \"25gm\"},\n",
        "            '1003': {'name': 'ColdDrink', 'price': 95, 'qn': 200, \"manu_date\":\"09/19\", \"weight\": \"59gm\"},\n",
        "            '1004': {'name': 'Candy', 'price': 10, 'qn': 1050, \"manu_date\":\"01/20\", \"weight\": \"20gm\"},\n",
        "            '1005': {'name': 'Pen', 'price': 20, 'qn': 100, \"manu_date\":\"12/20\", \"weight\": \"15gm\"},\n",
        "            '1006': {'name': 'Phone', 'price': 50000, 'qn': 25, \"manu_date\":\"12/18\", \"weight\": \"100gm\"},\n",
        "            '1007': {'name': 'Mic', 'price': 1500, 'qn': 30, \"manu_date\":\"05/19\", \"weight\": \"50gm\"},\n",
        "            '1008': {'name': 'Suitcase', 'price': 2000, 'qn': 10, \"manu_date\":\"03/20\", \"weight\": \"90gm\"},\n",
        "            '1009': {'name': 'Chocacandy', 'price': 25, 'qn': 980, \"manu_date\":\"01/19\", \"weight\": \"56gm\"},\n",
        "            '1010': {'name': 'Headphones', 'price': 3000, 'qn': 80, \"manu_date\":\"12/19\", \"weight\": \"25gm\"},\n",
        "            '1011': {'name': 'Bag', 'price': 1500, 'qn': 100, \"manu_date\":\"12/20\", \"weight\": \"50gm\"},\n",
        "            '1012': {'name': 'Tubelight', 'price': 800, 'qn': 350, \"manu_date\":\"03/19\", \"weight\": \"20gm\"},\n",
        "            '1013': {'name': 'Pencil', 'price': 5, 'qn': 100, \"manu_date\":\"07/19\", \"weight\": \"15gm\"},\n",
        "            '1014': {'name': 'DVD player', 'price': 20000, 'qn': 10, \"manu_date\":\"11/20\", \"weight\": \"100gm\"},\n",
        "            '1015': {'name': 'Rubics Cube', 'price': 200, 'qn': 250, \"manu_date\":\"06/20\", \"weight\": \"50gm\"},\n",
        "            '1016': {'name': 'Biscuit', 'price': 100, 'qn': 150, \"manu_date\":\"08/19\", \"weight\": \"90gm\"}\n",
        "            }"
      ],
      "execution_count": 1,
      "outputs": []
    },
    {
      "cell_type": "code",
      "metadata": {
        "id": "icTrKKNePlVq"
      },
      "source": [
        "import json"
      ],
      "execution_count": 2,
      "outputs": []
    },
    {
      "cell_type": "code",
      "metadata": {
        "id": "aajcWkgBShGI"
      },
      "source": [
        "js = json.dumps(records)"
      ],
      "execution_count": 3,
      "outputs": []
    },
    {
      "cell_type": "code",
      "metadata": {
        "colab": {
          "base_uri": "https://localhost:8080/",
          "height": 239
        },
        "id": "ARg4YiSASioh",
        "outputId": "819dba30-d938-4011-c583-a1cb43e01c7b"
      },
      "source": [
        "js"
      ],
      "execution_count": 4,
      "outputs": [
        {
          "output_type": "execute_result",
          "data": {
            "application/vnd.google.colaboratory.intrinsic+json": {
              "type": "string"
            },
            "text/plain": [
              "'{\"1001\": {\"name\": \"Chocolate\", \"price\": 100, \"qn\": 89, \"manu_date\": \"12/20\", \"weight\": \"50gm\"}, \"1002\": {\"name\": \"MilkCake\", \"price\": 150, \"qn\": 180, \"manu_date\": \"08/19\", \"weight\": \"25gm\"}, \"1003\": {\"name\": \"ColdDrink\", \"price\": 95, \"qn\": 200, \"manu_date\": \"09/19\", \"weight\": \"59gm\"}, \"1004\": {\"name\": \"Candy\", \"price\": 10, \"qn\": 1050, \"manu_date\": \"01/20\", \"weight\": \"20gm\"}, \"1005\": {\"name\": \"Pen\", \"price\": 20, \"qn\": 100, \"manu_date\": \"12/20\", \"weight\": \"15gm\"}, \"1006\": {\"name\": \"Phone\", \"price\": 50000, \"qn\": 25, \"manu_date\": \"12/18\", \"weight\": \"100gm\"}, \"1007\": {\"name\": \"Mic\", \"price\": 1500, \"qn\": 30, \"manu_date\": \"05/19\", \"weight\": \"50gm\"}, \"1008\": {\"name\": \"Suitcase\", \"price\": 2000, \"qn\": 10, \"manu_date\": \"03/20\", \"weight\": \"90gm\"}, \"1009\": {\"name\": \"Chocacandy\", \"price\": 25, \"qn\": 980, \"manu_date\": \"01/19\", \"weight\": \"56gm\"}, \"1010\": {\"name\": \"Headphones\", \"price\": 3000, \"qn\": 80, \"manu_date\": \"12/19\", \"weight\": \"25gm\"}, \"1011\": {\"name\": \"Bag\", \"price\": 1500, \"qn\": 100, \"manu_date\": \"12/20\", \"weight\": \"50gm\"}, \"1012\": {\"name\": \"Tubelight\", \"price\": 800, \"qn\": 350, \"manu_date\": \"03/19\", \"weight\": \"20gm\"}, \"1013\": {\"name\": \"Pencil\", \"price\": 5, \"qn\": 100, \"manu_date\": \"07/19\", \"weight\": \"15gm\"}, \"1014\": {\"name\": \"DVD player\", \"price\": 20000, \"qn\": 10, \"manu_date\": \"11/20\", \"weight\": \"100gm\"}, \"1015\": {\"name\": \"Rubics Cube\", \"price\": 200, \"qn\": 250, \"manu_date\": \"06/20\", \"weight\": \"50gm\"}, \"1016\": {\"name\": \"Biscuit\", \"price\": 100, \"qn\": 150, \"manu_date\": \"08/19\", \"weight\": \"90gm\"}}'"
            ]
          },
          "metadata": {},
          "execution_count": 4
        }
      ]
    },
    {
      "cell_type": "code",
      "metadata": {
        "colab": {
          "base_uri": "https://localhost:8080/"
        },
        "id": "GIhndqwuTotU",
        "outputId": "816aecb4-861e-481b-baa2-ea1e2eede9b0"
      },
      "source": [
        "records"
      ],
      "execution_count": 5,
      "outputs": [
        {
          "output_type": "execute_result",
          "data": {
            "text/plain": [
              "{'1001': {'manu_date': '12/20',\n",
              "  'name': 'Chocolate',\n",
              "  'price': 100,\n",
              "  'qn': 89,\n",
              "  'weight': '50gm'},\n",
              " '1002': {'manu_date': '08/19',\n",
              "  'name': 'MilkCake',\n",
              "  'price': 150,\n",
              "  'qn': 180,\n",
              "  'weight': '25gm'},\n",
              " '1003': {'manu_date': '09/19',\n",
              "  'name': 'ColdDrink',\n",
              "  'price': 95,\n",
              "  'qn': 200,\n",
              "  'weight': '59gm'},\n",
              " '1004': {'manu_date': '01/20',\n",
              "  'name': 'Candy',\n",
              "  'price': 10,\n",
              "  'qn': 1050,\n",
              "  'weight': '20gm'},\n",
              " '1005': {'manu_date': '12/20',\n",
              "  'name': 'Pen',\n",
              "  'price': 20,\n",
              "  'qn': 100,\n",
              "  'weight': '15gm'},\n",
              " '1006': {'manu_date': '12/18',\n",
              "  'name': 'Phone',\n",
              "  'price': 50000,\n",
              "  'qn': 25,\n",
              "  'weight': '100gm'},\n",
              " '1007': {'manu_date': '05/19',\n",
              "  'name': 'Mic',\n",
              "  'price': 1500,\n",
              "  'qn': 30,\n",
              "  'weight': '50gm'},\n",
              " '1008': {'manu_date': '03/20',\n",
              "  'name': 'Suitcase',\n",
              "  'price': 2000,\n",
              "  'qn': 10,\n",
              "  'weight': '90gm'},\n",
              " '1009': {'manu_date': '01/19',\n",
              "  'name': 'Chocacandy',\n",
              "  'price': 25,\n",
              "  'qn': 980,\n",
              "  'weight': '56gm'},\n",
              " '1010': {'manu_date': '12/19',\n",
              "  'name': 'Headphones',\n",
              "  'price': 3000,\n",
              "  'qn': 80,\n",
              "  'weight': '25gm'},\n",
              " '1011': {'manu_date': '12/20',\n",
              "  'name': 'Bag',\n",
              "  'price': 1500,\n",
              "  'qn': 100,\n",
              "  'weight': '50gm'},\n",
              " '1012': {'manu_date': '03/19',\n",
              "  'name': 'Tubelight',\n",
              "  'price': 800,\n",
              "  'qn': 350,\n",
              "  'weight': '20gm'},\n",
              " '1013': {'manu_date': '07/19',\n",
              "  'name': 'Pencil',\n",
              "  'price': 5,\n",
              "  'qn': 100,\n",
              "  'weight': '15gm'},\n",
              " '1014': {'manu_date': '11/20',\n",
              "  'name': 'DVD player',\n",
              "  'price': 20000,\n",
              "  'qn': 10,\n",
              "  'weight': '100gm'},\n",
              " '1015': {'manu_date': '06/20',\n",
              "  'name': 'Rubics Cube',\n",
              "  'price': 200,\n",
              "  'qn': 250,\n",
              "  'weight': '50gm'},\n",
              " '1016': {'manu_date': '08/19',\n",
              "  'name': 'Biscuit',\n",
              "  'price': 100,\n",
              "  'qn': 150,\n",
              "  'weight': '90gm'}}"
            ]
          },
          "metadata": {},
          "execution_count": 5
        }
      ]
    },
    {
      "cell_type": "code",
      "metadata": {
        "id": "gbB4ldniT3Au"
      },
      "source": [
        "fd = open(\"Records.json\",'w')\n",
        "fd.write(js)\n",
        "fd.close()"
      ],
      "execution_count": 6,
      "outputs": []
    },
    {
      "cell_type": "code",
      "metadata": {
        "id": "29j64NN7VDDA"
      },
      "source": [
        "fd = open(\"Records.json\",'r')\n",
        "txt = fd.read()\n",
        "fd.close()"
      ],
      "execution_count": 7,
      "outputs": []
    },
    {
      "cell_type": "code",
      "metadata": {
        "id": "65gQa2okVRqA"
      },
      "source": [
        "records = json.loads(txt)"
      ],
      "execution_count": 8,
      "outputs": []
    },
    {
      "cell_type": "code",
      "metadata": {
        "colab": {
          "base_uri": "https://localhost:8080/"
        },
        "id": "rR84cwbYVWRE",
        "outputId": "cdaa1199-105b-4aec-fc0a-275018e80d4f"
      },
      "source": [
        "records"
      ],
      "execution_count": 9,
      "outputs": [
        {
          "output_type": "execute_result",
          "data": {
            "text/plain": [
              "{'1001': {'manu_date': '12/20',\n",
              "  'name': 'Chocolate',\n",
              "  'price': 100,\n",
              "  'qn': 89,\n",
              "  'weight': '50gm'},\n",
              " '1002': {'manu_date': '08/19',\n",
              "  'name': 'MilkCake',\n",
              "  'price': 150,\n",
              "  'qn': 180,\n",
              "  'weight': '25gm'},\n",
              " '1003': {'manu_date': '09/19',\n",
              "  'name': 'ColdDrink',\n",
              "  'price': 95,\n",
              "  'qn': 200,\n",
              "  'weight': '59gm'},\n",
              " '1004': {'manu_date': '01/20',\n",
              "  'name': 'Candy',\n",
              "  'price': 10,\n",
              "  'qn': 1050,\n",
              "  'weight': '20gm'},\n",
              " '1005': {'manu_date': '12/20',\n",
              "  'name': 'Pen',\n",
              "  'price': 20,\n",
              "  'qn': 100,\n",
              "  'weight': '15gm'},\n",
              " '1006': {'manu_date': '12/18',\n",
              "  'name': 'Phone',\n",
              "  'price': 50000,\n",
              "  'qn': 25,\n",
              "  'weight': '100gm'},\n",
              " '1007': {'manu_date': '05/19',\n",
              "  'name': 'Mic',\n",
              "  'price': 1500,\n",
              "  'qn': 30,\n",
              "  'weight': '50gm'},\n",
              " '1008': {'manu_date': '03/20',\n",
              "  'name': 'Suitcase',\n",
              "  'price': 2000,\n",
              "  'qn': 10,\n",
              "  'weight': '90gm'},\n",
              " '1009': {'manu_date': '01/19',\n",
              "  'name': 'Chocacandy',\n",
              "  'price': 25,\n",
              "  'qn': 980,\n",
              "  'weight': '56gm'},\n",
              " '1010': {'manu_date': '12/19',\n",
              "  'name': 'Headphones',\n",
              "  'price': 3000,\n",
              "  'qn': 80,\n",
              "  'weight': '25gm'},\n",
              " '1011': {'manu_date': '12/20',\n",
              "  'name': 'Bag',\n",
              "  'price': 1500,\n",
              "  'qn': 100,\n",
              "  'weight': '50gm'},\n",
              " '1012': {'manu_date': '03/19',\n",
              "  'name': 'Tubelight',\n",
              "  'price': 800,\n",
              "  'qn': 350,\n",
              "  'weight': '20gm'},\n",
              " '1013': {'manu_date': '07/19',\n",
              "  'name': 'Pencil',\n",
              "  'price': 5,\n",
              "  'qn': 100,\n",
              "  'weight': '15gm'},\n",
              " '1014': {'manu_date': '11/20',\n",
              "  'name': 'DVD player',\n",
              "  'price': 20000,\n",
              "  'qn': 10,\n",
              "  'weight': '100gm'},\n",
              " '1015': {'manu_date': '06/20',\n",
              "  'name': 'Rubics Cube',\n",
              "  'price': 200,\n",
              "  'qn': 250,\n",
              "  'weight': '50gm'},\n",
              " '1016': {'manu_date': '08/19',\n",
              "  'name': 'Biscuit',\n",
              "  'price': 100,\n",
              "  'qn': 150,\n",
              "  'weight': '90gm'}}"
            ]
          },
          "metadata": {},
          "execution_count": 9
        }
      ]
    },
    {
      "cell_type": "markdown",
      "metadata": {
        "id": "C0Rh40dQW-4U"
      },
      "source": [
        "**Adding the new entry**"
      ]
    },
    {
      "cell_type": "code",
      "metadata": {
        "colab": {
          "base_uri": "https://localhost:8080/"
        },
        "id": "D7VUiMyCXIgA",
        "outputId": "4a77095d-df04-4bba-e248-4be8330649bb"
      },
      "source": [
        "prod_id = str(input(\"Enter product id :\"))\n",
        "name = str(input(\"Enter name :\"))\n",
        "price = int(input(\"Enter price :\"))\n",
        "qn = int(input(\"Enter quantity :\"))\n",
        "manu_date = str(input(\"Enter manufacturing date :\"))\n",
        "weight = str(input(\"Enter weight :\"))\n",
        "\n",
        "records[prod_id] = {'name': name, 'price': price, 'qn': qn, 'manu_date': manu_date, 'weight': weight}\n",
        "\n",
        "js = json.dumps(records)\n",
        "\n",
        "fd = open(\"Records.json\",'w')\n",
        "fd.write(js)\n",
        "fd.close()"
      ],
      "execution_count": 10,
      "outputs": [
        {
          "name": "stdout",
          "output_type": "stream",
          "text": [
            "Enter product id :1033\n",
            "Enter name :camera\n",
            "Enter price :3000\n",
            "Enter quantity :28\n",
            "Enter manufacturing date :12/19\n",
            "Enter weight :890gm\n"
          ]
        }
      ]
    },
    {
      "cell_type": "code",
      "metadata": {
        "colab": {
          "base_uri": "https://localhost:8080/"
        },
        "id": "WmgM2-bAZJEh",
        "outputId": "3ee96311-96de-45a1-cdd6-5e511e4a42bc"
      },
      "source": [
        "records"
      ],
      "execution_count": 21,
      "outputs": [
        {
          "output_type": "execute_result",
          "data": {
            "text/plain": [
              "{'1001': {'manu_date': '12/20',\n",
              "  'name': 'Chocolate',\n",
              "  'price': 100,\n",
              "  'qn': 89,\n",
              "  'weight': '50gm'},\n",
              " '1002': {'manu_date': '08/19',\n",
              "  'name': 'MilkCake',\n",
              "  'price': 150,\n",
              "  'qn': 180,\n",
              "  'weight': '25gm'},\n",
              " '1003': {'manu_date': '09/19',\n",
              "  'name': 'ColdDrink',\n",
              "  'price': 95,\n",
              "  'qn': 200,\n",
              "  'weight': '59gm'},\n",
              " '1004': {'manu_date': '01/20',\n",
              "  'name': 'Candy',\n",
              "  'price': 10,\n",
              "  'qn': 1050,\n",
              "  'weight': '20gm'},\n",
              " '1005': {'manu_date': '12/20',\n",
              "  'name': 'Pen',\n",
              "  'price': 20,\n",
              "  'qn': 100,\n",
              "  'weight': '15gm'},\n",
              " '1006': {'manu_date': '12/18',\n",
              "  'name': 'Phone',\n",
              "  'price': 50000,\n",
              "  'qn': 25,\n",
              "  'weight': '100gm'},\n",
              " '1007': {'manu_date': '05/19',\n",
              "  'name': 'Mic',\n",
              "  'price': 1500,\n",
              "  'qn': 30,\n",
              "  'weight': '50gm'},\n",
              " '1008': {'manu_date': '03/20',\n",
              "  'name': 'Suitcase',\n",
              "  'price': 2000,\n",
              "  'qn': 10,\n",
              "  'weight': '90gm'},\n",
              " '1009': {'manu_date': '01/19',\n",
              "  'name': 'Chocacandy',\n",
              "  'price': 25,\n",
              "  'qn': 980,\n",
              "  'weight': '56gm'},\n",
              " '1010': {'manu_date': '12/19',\n",
              "  'name': 'Headphones',\n",
              "  'price': 3000,\n",
              "  'qn': 80,\n",
              "  'weight': '25gm'},\n",
              " '1011': {'manu_date': '12/20',\n",
              "  'name': 'Bag',\n",
              "  'price': 1500,\n",
              "  'qn': 100,\n",
              "  'weight': '50gm'},\n",
              " '1012': {'manu_date': '03/19',\n",
              "  'name': 'Tubelight',\n",
              "  'price': 800,\n",
              "  'qn': 350,\n",
              "  'weight': '20gm'},\n",
              " '1013': {'manu_date': '07/19',\n",
              "  'name': 'Pencil',\n",
              "  'price': 5,\n",
              "  'qn': 100,\n",
              "  'weight': '15gm'},\n",
              " '1014': {'manu_date': '11/20',\n",
              "  'name': 'DVD player',\n",
              "  'price': 20000,\n",
              "  'qn': 10,\n",
              "  'weight': '100gm'},\n",
              " '1015': {'manu_date': '06/20',\n",
              "  'name': 'Rubics Cube',\n",
              "  'price': 200,\n",
              "  'qn': 250,\n",
              "  'weight': '50gm'},\n",
              " '1016': {'manu_date': '08/19',\n",
              "  'name': 'Biscuit',\n",
              "  'price': 100,\n",
              "  'qn': 150,\n",
              "  'weight': '90gm'},\n",
              " '1033': {'manu_date': '12/19',\n",
              "  'name': 'camera',\n",
              "  'price': 3000,\n",
              "  'qn': 28,\n",
              "  'weight': '890gm'}}"
            ]
          },
          "metadata": {},
          "execution_count": 21
        }
      ]
    },
    {
      "cell_type": "markdown",
      "metadata": {
        "id": "26T_KCwmdCzH"
      },
      "source": [
        "**Displaying the products available**\n"
      ]
    },
    {
      "cell_type": "code",
      "metadata": {
        "colab": {
          "base_uri": "https://localhost:8080/"
        },
        "id": "LuU6gOg0IKIf",
        "outputId": "52c9bf49-2b1c-42b1-f02e-7e0e75c70a3d"
      },
      "source": [
        "print(\"Product items available  :\\n ID   :  Product\")\n",
        "for prod_id in records:\n",
        "  print(prod_id,\" : \", records[prod_id]['name'])"
      ],
      "execution_count": 12,
      "outputs": [
        {
          "output_type": "stream",
          "name": "stdout",
          "text": [
            "Product items available  :\n",
            " ID   :  Product\n",
            "1001  :  Chocolate\n",
            "1002  :  MilkCake\n",
            "1003  :  ColdDrink\n",
            "1004  :  Candy\n",
            "1005  :  Pen\n",
            "1006  :  Phone\n",
            "1007  :  Mic\n",
            "1008  :  Suitcase\n",
            "1009  :  Chocacandy\n",
            "1010  :  Headphones\n",
            "1011  :  Bag\n",
            "1012  :  Tubelight\n",
            "1013  :  Pencil\n",
            "1014  :  DVD player\n",
            "1015  :  Rubics Cube\n",
            "1016  :  Biscuit\n",
            "1033  :  camera\n"
          ]
        }
      ]
    },
    {
      "cell_type": "markdown",
      "metadata": {
        "id": "_sCBYPeMiIwz"
      },
      "source": [
        "**Purchase the product** "
      ]
    },
    {
      "cell_type": "code",
      "metadata": {
        "colab": {
          "base_uri": "https://localhost:8080/"
        },
        "id": "iroIHq6AeN0F",
        "outputId": "55d1ae01-4b83-4da4-a776-1437fcf71ea9"
      },
      "source": [
        "buy_prod  = str(input(\"Enter the product id : \"))\n",
        "buy_qn = int(input(\"Enter the quantity : \"))\n",
        "\n",
        "\n",
        "print(\"Product       : \", records[buy_prod]['name'])\n",
        "print(\"Price         : \", records[buy_prod]['price'])\n",
        "print(\"Billing Amount: \", records[buy_prod]['price'] * buy_qn)\n",
        "\n",
        "records[buy_prod]['qn'] = records[buy_prod]['qn'] - buy_qn"
      ],
      "execution_count": 39,
      "outputs": [
        {
          "output_type": "stream",
          "name": "stdout",
          "text": [
            "Enter the product id : 1004\n",
            "Enter the quantity : 1\n",
            "Product       :  Candy\n",
            "Price         :  10\n",
            "Billing Amount:  10\n"
          ]
        }
      ]
    },
    {
      "cell_type": "markdown",
      "metadata": {
        "id": "rejs2BUdj2vz"
      },
      "source": [
        "**Updating in json file**"
      ]
    },
    {
      "cell_type": "code",
      "metadata": {
        "id": "80s6qIRcjZ3f"
      },
      "source": [
        "js = json.dumps(records)\n",
        "\n",
        "fd = open(\"Records.json\",'w')\n",
        "fd.write(js)\n",
        "fd.close()"
      ],
      "execution_count": 40,
      "outputs": []
    },
    {
      "cell_type": "code",
      "metadata": {
        "colab": {
          "base_uri": "https://localhost:8080/"
        },
        "id": "_Bx4HIBgjlVy",
        "outputId": "4b18304e-862c-4bf2-e698-0f48418161a8"
      },
      "source": [
        "records"
      ],
      "execution_count": 41,
      "outputs": [
        {
          "output_type": "execute_result",
          "data": {
            "text/plain": [
              "{'1001': {'manu_date': '12/20',\n",
              "  'name': 'Chocolate',\n",
              "  'price': 100,\n",
              "  'qn': 88,\n",
              "  'weight': '50gm'},\n",
              " '1002': {'manu_date': '08/19',\n",
              "  'name': 'MilkCake',\n",
              "  'price': 150,\n",
              "  'qn': 180,\n",
              "  'weight': '25gm'},\n",
              " '1003': {'manu_date': '09/19',\n",
              "  'name': 'ColdDrink',\n",
              "  'price': 95,\n",
              "  'qn': 200,\n",
              "  'weight': '59gm'},\n",
              " '1004': {'manu_date': '01/20',\n",
              "  'name': 'Candy',\n",
              "  'price': 10,\n",
              "  'qn': 1049,\n",
              "  'weight': '20gm'},\n",
              " '1005': {'manu_date': '12/20',\n",
              "  'name': 'Pen',\n",
              "  'price': 20,\n",
              "  'qn': 100,\n",
              "  'weight': '15gm'},\n",
              " '1006': {'manu_date': '12/18',\n",
              "  'name': 'Phone',\n",
              "  'price': 50000,\n",
              "  'qn': 25,\n",
              "  'weight': '100gm'},\n",
              " '1007': {'manu_date': '05/19',\n",
              "  'name': 'Mic',\n",
              "  'price': 1500,\n",
              "  'qn': 30,\n",
              "  'weight': '50gm'},\n",
              " '1008': {'manu_date': '03/20',\n",
              "  'name': 'Suitcase',\n",
              "  'price': 2000,\n",
              "  'qn': 10,\n",
              "  'weight': '90gm'},\n",
              " '1009': {'manu_date': '01/19',\n",
              "  'name': 'Chocacandy',\n",
              "  'price': 25,\n",
              "  'qn': 980,\n",
              "  'weight': '56gm'},\n",
              " '1010': {'manu_date': '12/19',\n",
              "  'name': 'Headphones',\n",
              "  'price': 3000,\n",
              "  'qn': 80,\n",
              "  'weight': '25gm'},\n",
              " '1011': {'manu_date': '12/20',\n",
              "  'name': 'Bag',\n",
              "  'price': 1500,\n",
              "  'qn': 100,\n",
              "  'weight': '50gm'},\n",
              " '1012': {'manu_date': '03/19',\n",
              "  'name': 'Tubelight',\n",
              "  'price': 800,\n",
              "  'qn': 350,\n",
              "  'weight': '20gm'},\n",
              " '1013': {'manu_date': '07/19',\n",
              "  'name': 'Pencil',\n",
              "  'price': 5,\n",
              "  'qn': 100,\n",
              "  'weight': '15gm'},\n",
              " '1014': {'manu_date': '11/20',\n",
              "  'name': 'DVD player',\n",
              "  'price': 20000,\n",
              "  'qn': 10,\n",
              "  'weight': '100gm'},\n",
              " '1015': {'manu_date': '06/20',\n",
              "  'name': 'Rubics Cube',\n",
              "  'price': 200,\n",
              "  'qn': 250,\n",
              "  'weight': '50gm'},\n",
              " '1016': {'manu_date': '08/19',\n",
              "  'name': 'Biscuit',\n",
              "  'price': 100,\n",
              "  'qn': 150,\n",
              "  'weight': '90gm'},\n",
              " '1033': {'manu_date': '12/19',\n",
              "  'name': 'camera',\n",
              "  'price': 3000,\n",
              "  'qn': 27,\n",
              "  'weight': '890gm'}}"
            ]
          },
          "metadata": {},
          "execution_count": 41
        }
      ]
    },
    {
      "cell_type": "markdown",
      "metadata": {
        "id": "4cUdMG5GkAcM"
      },
      "source": [
        "**Creating sales.json file**"
      ]
    },
    {
      "cell_type": "code",
      "metadata": {
        "id": "wQ-IFFntmukF"
      },
      "source": [
        "sales = {buy_prod : {'name' : records[buy_prod]['name'], 'qn' : buy_qn, 'amount': records[buy_prod]['price'] * buy_qn}}\n",
        "\n",
        "sale = json.dumps(sales)\n",
        "\n",
        "fd = open(\"Sales.json\",'w')\n",
        "fd.write(sale)\n",
        "fd.close()"
      ],
      "execution_count": 42,
      "outputs": []
    },
    {
      "cell_type": "code",
      "metadata": {
        "id": "oti_AtgXmxZI"
      },
      "source": [
        "fd = open(\"Sales.json\",'r')\n",
        "txt_sale = fd.read()\n",
        "fd.close()\n",
        "\n",
        "sales = json.loads(txt_sale)"
      ],
      "execution_count": 43,
      "outputs": []
    },
    {
      "cell_type": "code",
      "metadata": {
        "colab": {
          "base_uri": "https://localhost:8080/"
        },
        "id": "x-Lr1EcmFjWx",
        "outputId": "9d3c45b1-7158-4be5-8028-dfb8a61b91e7"
      },
      "source": [
        "sales"
      ],
      "execution_count": 44,
      "outputs": [
        {
          "output_type": "execute_result",
          "data": {
            "text/plain": [
              "{'1004': {'amount': 10, 'name': 'Candy', 'qn': 1}}"
            ]
          },
          "metadata": {},
          "execution_count": 44
        }
      ]
    },
    {
      "cell_type": "markdown",
      "metadata": {
        "id": "VX5tWbhOHPES"
      },
      "source": [
        "**Updating Sales.json file**"
      ]
    },
    {
      "cell_type": "code",
      "metadata": {
        "id": "iXOejto9FPQ9"
      },
      "source": [
        "sales[buy_prod] = {'name' : records[buy_prod]['name'], 'qn' : buy_qn, 'amount': records[buy_prod]['price'] * buy_qn}\n",
        "\n",
        "sale = json.dumps(sales)\n",
        "\n",
        "fd = open(\"Sales.json\",'w')\n",
        "fd.write(sale)\n",
        "fd.close()"
      ],
      "execution_count": 45,
      "outputs": []
    },
    {
      "cell_type": "code",
      "metadata": {
        "colab": {
          "base_uri": "https://localhost:8080/"
        },
        "id": "zq5jk-uMHo3u",
        "outputId": "d8ecaa36-c9ad-48c8-d2d9-a196ff63e5c9"
      },
      "source": [
        "sales"
      ],
      "execution_count": 46,
      "outputs": [
        {
          "output_type": "execute_result",
          "data": {
            "text/plain": [
              "{'1004': {'amount': 10, 'name': 'Candy', 'qn': 1}}"
            ]
          },
          "metadata": {},
          "execution_count": 46
        }
      ]
    }
  ]
}